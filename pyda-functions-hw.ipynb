{
 "cells": [
  {
   "cell_type": "markdown",
   "metadata": {},
   "source": [
    "## Задание 1"
   ]
  },
  {
   "cell_type": "markdown",
   "metadata": {},
   "source": [
    "Дан список вида:"
   ]
  },
  {
   "cell_type": "code",
   "execution_count": 2,
   "metadata": {},
   "outputs": [],
   "source": [
    "data = [\n",
    "    [13, 25, 23, 34],\n",
    "    [45, 32, 44, 47],\n",
    "    [12, 33, 23, 95],\n",
    "    [13, 53, 34, 35]\n",
    "]"
   ]
  },
  {
   "cell_type": "markdown",
   "metadata": {},
   "source": [
    "Напишите функцию, которая возвращает сумму элементов на диагонали. Т. е. 13+32+23+35.  \n",
    "Список может быть любой длины, но всегда является \"квадратным\" (количество элементов во вложенных списках равно их количеству)."
   ]
  },
  {
   "cell_type": "code",
   "execution_count": 39,
   "metadata": {},
   "outputs": [
    {
     "name": "stdout",
     "output_type": "stream",
     "text": [
      "103\n"
     ]
    }
   ],
   "source": [
    "def some_sum(list_of_numb):\n",
    "        list_of_numb1=0 #создаем переменную, присваиваем значение 0\n",
    "        for index_ in range(len(list_of_numb)):#для index_ из последоватеьности range...\n",
    "            list_of_numb1+=list_of_numb[index_][index_] #к переменной list_of_numb1 прибавляем каждое следующее значение списка list_of_numb[index_][index_]\n",
    "                         \n",
    "        return list_of_numb1\n",
    "\n",
    "print(some_sum(data))\n",
    "    "
   ]
  },
  {
   "cell_type": "markdown",
   "metadata": {},
   "source": [
    "## Задание 2"
   ]
  },
  {
   "cell_type": "markdown",
   "metadata": {},
   "source": [
    "Напишите функцию, возвращающую сумму первых n чисел Фибоначчи (для этого вам может понадобится ознакомиться с рекурсией)."
   ]
  },
  {
   "cell_type": "code",
   "execution_count": 14,
   "metadata": {},
   "outputs": [
    {
     "name": "stdout",
     "output_type": "stream",
     "text": [
      "33\n"
     ]
    }
   ],
   "source": [
    "def fib(n):\n",
    "    seq = [0,1]\n",
    "    for i in range(2,n+1):\n",
    "        seq.append(seq[i-1]+seq[i-2])\n",
    "    print(sum(seq))\n",
    "fib(7)"
   ]
  },
  {
   "cell_type": "markdown",
   "metadata": {},
   "source": [
    "## Задание 3\n"
   ]
  },
  {
   "cell_type": "code",
   "execution_count": 15,
   "metadata": {},
   "outputs": [],
   "source": [
    "new_list = ['2018-01-01', 'yandex', 'cpc', 100] "
   ]
  },
  {
   "cell_type": "code",
   "execution_count": 16,
   "metadata": {},
   "outputs": [
    {
     "data": {
      "text/plain": [
       "{'2018-01-01': {'yandex': {'cpc': 100}}}"
      ]
     },
     "execution_count": 16,
     "metadata": {},
     "output_type": "execute_result"
    }
   ],
   "source": [
    "def strange_list(some_list):\n",
    "    some_var=some_list[-1]\n",
    "    for i in some_list[-2::-1]:\n",
    "        some_var = {i:some_var}\n",
    "    return some_var\n",
    "strange_list(new_list)"
   ]
  },
  {
   "cell_type": "markdown",
   "metadata": {},
   "source": [
    "Напишите функцию, преобразующую произвольный список вида ['2018-01-01', 'yandex', 'cpc', 100] (он может быть любой длины) в словарь {'2018-01-01': {'yandex': {'cpc': 100}}}"
   ]
  },
  {
   "cell_type": "markdown",
   "metadata": {},
   "source": [
    "## Задание 4"
   ]
  },
  {
   "cell_type": "markdown",
   "metadata": {},
   "source": [
    "Вы работаете секретарем и вам постоянно приходят различные документы. Вы должны быть очень внимательны, чтобы не потерять ни один документ. Каталог документов хранится в следующем виде:"
   ]
  },
  {
   "cell_type": "code",
   "execution_count": 3,
   "metadata": {},
   "outputs": [],
   "source": [
    "documents = [\n",
    "    {'type': 'passport', 'number': '2207 876234', 'name': 'Василий Гупкин'},\n",
    "    {'type': 'invoice', 'number': '11-2', 'name': 'Геннадий Покемонов'},\n",
    "    {'type': 'insurance', 'number': '10006', 'name': 'Аристарх Павлов'}\n",
    "]"
   ]
  },
  {
   "cell_type": "markdown",
   "metadata": {},
   "source": [
    "Перечень полок, на которых находятся документы хранится в следующем виде:"
   ]
  },
  {
   "cell_type": "code",
   "execution_count": 4,
   "metadata": {},
   "outputs": [],
   "source": [
    "directories = {\n",
    "    '1': ['2207 876234', '11-2', '5455 028765'],\n",
    "    '2': ['10006', '5400 028765', '5455 002299'],\n",
    "    '3': []\n",
    "}"
   ]
  },
  {
   "cell_type": "code",
   "execution_count": null,
   "metadata": {},
   "outputs": [],
   "source": [
    "\n",
    "def finde_person(doc_number):\n",
    "    for doc in documents:\n",
    "        if doc['number'] == doc_number:\n",
    "            return doc.get('name')\n",
    "# doc_output=finde_person(doc_number)\n",
    "# if doc_output:\n",
    "#     print(f'Имя владельца, которому принадлежит документ {doc_output}')\n",
    "# else:\n",
    "#     print('Документ с таким имененм не существует')\n",
    "\n",
    "def finde_shelf(doc_number):\n",
    "    for shelf, val in directories.items():\n",
    "        if doc_number in val:\n",
    "            return shelf\n",
    "            \n",
    "#     shelf_output=finde_shelf(doc_number)\n",
    "#     if shelf_output:\n",
    "#         print(f'Документ находится на полке {shelf_output}')\n",
    "#     else:\n",
    "#         print('Документ с таким имененм не существует')\n",
    "    \n",
    "def list_of_doc():\n",
    "    for document in documents:\n",
    "        document_list = ' '.join(document.values())\n",
    "        print (document_list)\n",
    "# list_of_doc()    \n",
    "\n",
    "\n",
    "def add_new_shejf(num_shelf):\n",
    "    if num_shelf not in directories.keys():\n",
    "        directories[num_shelf]=[]\n",
    "    return\n",
    "\n",
    "def delete_doc():\n",
    "    doc_num = input('Для удаления данных пользователя введите номер документа')\n",
    "    del_flag == False\n",
    "    for document in documents:\n",
    "        if document['number']==doc_num:\n",
    "            documents.remove(document)\n",
    "            del_flag = True\n",
    "        if del_flag == False:\n",
    "            print('Документа с таким номером не существует')\n",
    "        for key, value in directories.items():\n",
    "            if value.count(doc_num) !=0:\n",
    "                directories[key].remove(doc_num)\n",
    "                \n",
    "def add_doc(documents, directories):\n",
    "    doc_number = input('Введите номер документа: ')\n",
    "    doc_type = input('Введите тип документа: ')\n",
    "    doc_name = input('Введите ФИО владельца документа: ')\n",
    "    doc_shelf = input('Введите номер полки для хранения документа: ')\n",
    "    if doc_shelf not in directories:\n",
    "        print('Такой полки не существует')\n",
    "        return\n",
    "    documents.append({'type':doc_type, 'number':doc_number, 'name':doc_name})\n",
    "    directories[doc_shelf].append(doc_number)\n",
    "    return\n",
    "\n",
    "def move_doc():\n",
    "    doc_num = input('Для перемещения документа введите номер документа ')\n",
    "    if sum([value.count(doc_num) for value in directories.values()]) ==0:\n",
    "        print ('Такого номера документа не существует')\n",
    "        return\n",
    "    shelf_num_dest = input('Введите номер полки, куда нужнопереместить документ')\n",
    "    if list (directories.keys()).count(shelf_num_dest) !=0:\n",
    "        for key, value in directories.items():\n",
    "            if value.count(doc_num) !=0:\n",
    "                directories[key].remove(doc_num)\n",
    "        directories[shelf_num_dest].append(doc_num)\n",
    "    else:\n",
    "        print(\"Полка с номером\" + shelf_num_dest +\"не существует\")\n",
    "        \n",
    "        \n",
    "        \n",
    "def main():\n",
    "    command=input('Введите команду ')\n",
    "    while True:\n",
    "        if command == 'p':\n",
    "            doc_number=input(\"Введите номер документа: \")\n",
    "            doc_output=finde_person(doc_number)\n",
    "            if doc_output:\n",
    "                print(f'Имя владельца, которому принадлежит документ {doc_output}')\n",
    "            else:\n",
    "                print('Документ с таким имененм не существует')\n",
    "            break\n",
    "        elif command == \"s\":\n",
    "            doc_number=input(\"Введите номер документа: \")\n",
    "            shelf_output=finde_shelf(doc_number)\n",
    "            if shelf_output:\n",
    "                print(f'Документ находится на полке {shelf_output}')\n",
    "            else:\n",
    "                print('Документ с таким имененм не существует')\n",
    "               \n",
    "      \n",
    "        elif command == \"l\":\n",
    "            list_of_doc()\n",
    "      \n",
    "        elif command == \"as\":\n",
    "            add_new_shejf(num_shelf)\n",
    "        \n",
    "        elif command == \"d\":\n",
    "            delete_doc()\n",
    "          \n",
    "        elif command == \"m\":\n",
    "            move_doc()\n",
    "           \n",
    "        elif command == \"a\":\n",
    "            add_doc(documents, directories)\n",
    "main()\n"
   ]
  },
  {
   "cell_type": "code",
   "execution_count": null,
   "metadata": {},
   "outputs": [],
   "source": []
  },
  {
   "cell_type": "markdown",
   "metadata": {},
   "source": [
    "Необходимо реализовать пользовательские команды (внимание! это не название функций, которые должны быть выразительными, а команды, которые вводит пользователь, чтобы получить необходимый результат):\n",
    "  \n",
    "- p – people – команда, которая спросит номер документа и выведет имя человека, которому он принадлежит;  \n",
    "- s – shelf – команда, которая спросит номер документа и выведет номер полки, на которой он находится  \n",
    "Правильно обработайте ситуацию, когда пользователь будет вводить несуществующий документ.\n",
    "- l – list – команда, которая выведет список всех документов в формате   \n",
    "**passport \"2207 876234\" \"Василий Гупкин\"**  \n",
    "- as – add shelf – команда, которая спросит номер новой полки и добавит ее в перечень\n",
    "- d – delete – команда, которая спросит номер документа и удалит его из каталога и из перечня полок. Предусмотрите сценарий, когда пользователь вводит несуществующий документ;  \n",
    "- m – move – команда, которая спросит номер документа и целевую полку и переместит его с текущей полки на целевую. Корректно обработайте кейсы, когда пользователь пытается переместить несуществующий документ или переместить документ на несуществующую полку;  \n",
    "- a – add – команда, которая добавит новый документ в каталог и в перечень полок, спросив его номер, тип, имя владельца и номер полки, на котором он будет храниться."
   ]
  },
  {
   "cell_type": "markdown",
   "metadata": {},
   "source": [
    "\n",
    "\"\"\"\n",
    "p - вывод имени человека по номеру документа\n",
    "s - вывод номера полки по номеру документа\n",
    "l - вывод всех документов\n",
    "as - создание новой папки\n",
    "d - удаление документа из каталога и из перечня папок\n",
    "m - перемещение документа\n",
    "a - добавление нвого документа\n",
    "\"\"\""
   ]
  },
  {
   "cell_type": "code",
   "execution_count": null,
   "metadata": {},
   "outputs": [],
   "source": []
  }
 ],
 "metadata": {
  "kernelspec": {
   "display_name": "Python 3",
   "language": "python",
   "name": "python3"
  },
  "language_info": {
   "codemirror_mode": {
    "name": "ipython",
    "version": 3
   },
   "file_extension": ".py",
   "mimetype": "text/x-python",
   "name": "python",
   "nbconvert_exporter": "python",
   "pygments_lexer": "ipython3",
   "version": "3.7.4"
  }
 },
 "nbformat": 4,
 "nbformat_minor": 2
}
